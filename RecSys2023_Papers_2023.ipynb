{
  "nbformat": 4,
  "nbformat_minor": 0,
  "metadata": {
    "colab": {
      "provenance": [],
      "authorship_tag": "ABX9TyMMZpS6Knyy+J05EwVetzvO",
      "include_colab_link": true
    },
    "kernelspec": {
      "name": "python3",
      "display_name": "Python 3"
    },
    "language_info": {
      "name": "python"
    }
  },
  "cells": [
    {
      "cell_type": "markdown",
      "metadata": {
        "id": "view-in-github",
        "colab_type": "text"
      },
      "source": [
        "<a href=\"https://colab.research.google.com/github/orrimoch/RecSys2023_papers/blob/main/RecSys2023_Papers_2023.ipynb\" target=\"_parent\"><img src=\"https://colab.research.google.com/assets/colab-badge.svg\" alt=\"Open In Colab\"/></a>"
      ]
    },
    {
      "cell_type": "markdown",
      "source": [
        "### **RecSys 2023 - Papers Extraction**"
      ],
      "metadata": {
        "id": "VHCDAbBqk7uV"
      }
    },
    {
      "cell_type": "code",
      "source": [
        "\"\"\"\n",
        "    Description: This notebook is used for parsing and extracting the updated \"RecSys 2023\" papers.\n",
        "\"\"\";"
      ],
      "metadata": {
        "id": "UUvVP0M7kouO"
      },
      "execution_count": 6,
      "outputs": []
    },
    {
      "cell_type": "code",
      "source": [
        "from google.colab import drive\n",
        "drive.mount('/content/drive')"
      ],
      "metadata": {
        "id": "72UA5eYIn4OK"
      },
      "execution_count": null,
      "outputs": []
    },
    {
      "cell_type": "code",
      "source": [
        "# Log into the Google drive - project folder\n",
        "!cd '/content/drive/MyDrive/RecSys2023_papers'"
      ],
      "metadata": {
        "id": "v6BusvVgn8Jc"
      },
      "execution_count": 11,
      "outputs": []
    },
    {
      "cell_type": "code",
      "source": [
        "pwd"
      ],
      "metadata": {
        "id": "5yP-dIueqdUD",
        "outputId": "d333a66f-76c2-487f-da6f-34c85617537c",
        "colab": {
          "base_uri": "https://localhost:8080/",
          "height": 35
        }
      },
      "execution_count": 16,
      "outputs": [
        {
          "output_type": "execute_result",
          "data": {
            "text/plain": [
              "'/content/drive/MyDrive/RecSys2023_papers'"
            ],
            "application/vnd.google.colaboratory.intrinsic+json": {
              "type": "string"
            }
          },
          "metadata": {},
          "execution_count": 16
        }
      ]
    },
    {
      "cell_type": "code",
      "source": [
        "!git add ."
      ],
      "metadata": {
        "id": "oKXFHStwp8qX",
        "outputId": "5cf5bc78-4f5c-4be1-cf29-fc1bb5f66dda",
        "colab": {
          "base_uri": "https://localhost:8080/"
        }
      },
      "execution_count": 17,
      "outputs": [
        {
          "output_type": "stream",
          "name": "stdout",
          "text": [
            "Initialized empty Git repository in /content/drive/MyDrive/RecSys2023_papers/.git/\n"
          ]
        }
      ]
    },
    {
      "cell_type": "code",
      "source": [
        "# This package have to be installed\n",
        "!pip install arxiv"
      ],
      "metadata": {
        "colab": {
          "base_uri": "https://localhost:8080/"
        },
        "id": "HoHAi93olD_x",
        "outputId": "9916934c-06e6-4baa-d38a-508b8a11483e"
      },
      "execution_count": null,
      "outputs": [
        {
          "output_type": "stream",
          "name": "stdout",
          "text": [
            "Collecting arxiv\n",
            "  Downloading arxiv-1.4.8-py3-none-any.whl (12 kB)\n",
            "Collecting feedparser (from arxiv)\n",
            "  Downloading feedparser-6.0.10-py3-none-any.whl (81 kB)\n",
            "\u001b[?25l     \u001b[90m━━━━━━━━━━━━━━━━━━━━━━━━━━━━━━━━━━━━━━━━\u001b[0m \u001b[32m0.0/81.1 kB\u001b[0m \u001b[31m?\u001b[0m eta \u001b[36m-:--:--\u001b[0m\r\u001b[2K     \u001b[90m━━━━━━━━━━━━━━━━━━━━━━━━━━━━━━━━━━━━━━━━\u001b[0m \u001b[32m81.1/81.1 kB\u001b[0m \u001b[31m3.6 MB/s\u001b[0m eta \u001b[36m0:00:00\u001b[0m\n",
            "\u001b[?25hCollecting sgmllib3k (from feedparser->arxiv)\n",
            "  Downloading sgmllib3k-1.0.0.tar.gz (5.8 kB)\n",
            "  Preparing metadata (setup.py) ... \u001b[?25l\u001b[?25hdone\n",
            "Building wheels for collected packages: sgmllib3k\n",
            "  Building wheel for sgmllib3k (setup.py) ... \u001b[?25l\u001b[?25hdone\n",
            "  Created wheel for sgmllib3k: filename=sgmllib3k-1.0.0-py3-none-any.whl size=6046 sha256=7da6becdae71ec03dae6b57c33e4b3349c098761aaec758950e7df761bd99117\n",
            "  Stored in directory: /root/.cache/pip/wheels/f0/69/93/a47e9d621be168e9e33c7ce60524393c0b92ae83cf6c6e89c5\n",
            "Successfully built sgmllib3k\n",
            "Installing collected packages: sgmllib3k, feedparser, arxiv\n",
            "Successfully installed arxiv-1.4.8 feedparser-6.0.10 sgmllib3k-1.0.0\n"
          ]
        }
      ]
    },
    {
      "cell_type": "code",
      "source": [
        "import os\n",
        "import sys\n",
        "import numpy as np"
      ],
      "metadata": {
        "id": "PZljcITYmuRJ"
      },
      "execution_count": null,
      "outputs": []
    },
    {
      "cell_type": "code",
      "source": [
        "# List of the \"short papaers\"\n",
        "short_papers = \"\"\"● A Probabilistic Position Bias Model for Short-Video Recommendation Feeds\n",
        "Olivier Jeunen\n",
        "\n",
        "● Adaptive Collaborative Filtering with Personalized Time Decay Functions for Financial Product Recommendation\n",
        "Ashraf Ghiye, Baptiste Barreau, Laurent Carlier, Michalis Vazirgiannis\n",
        "\n",
        "● ADRNet: A Generalized Collaborative Filtering Framework Combining Clinical and Non-Clinical Data for Adverse Drug Reaction Prediction\n",
        "Haoxuan Li, Taojun Hu, Zetong Xiong, Chunyuan Zheng, Fuli Feng, Xiangnan He, Xiao-Hua Zhou\n",
        "\n",
        "● Adversarial Sleeping Bandit Problems with Multiple Plays: Algorithm and Ranking Application\n",
        "Jianjun Yuan, Wei Lee Woon, Ludovik Coba\n",
        "\n",
        "● Analysis Operations for Constraint-based Recommender Systems\n",
        "Sebastian Lubos, Viet-Man Le, Alexander Felfernig, Thi Ngoc Trang Tran\n",
        "\n",
        "● Beyond the Sequence: Statistics-driven Pre-training for Stabilizing Sequential Recommendation Model\n",
        "Sirui Wang, Peiguang Li, Yunsen Xian, Hongzhi Zhang\n",
        "\n",
        "● Bootstrapped Personalized Popularity for Cold Start Recommender Systems\n",
        "Iason Chaimalas, Duncan Walker, Edoardo Gruppi, Ben Clark, Laura Toni\n",
        "\n",
        "● Can ChatGPT Make Fair Recommendation? A Fairness Evaluation Benchmark for Recommendation with Large Language Model\n",
        "Jizhi Zhang, Keqin Bao, Yang Zhang, Wenjie Wang, Fuli Feng, Xiangnan He\n",
        "\n",
        "● Co-occurrence Embedding Enhancement for Long-tail Problem in Multi-Interest Recommendation\n",
        "Yaokun Liu, Xiaowang Zhang, Minghui Zou, Zhiyong Feng\n",
        "\n",
        "● Collaborative filtering algorithms are prone to mainstream-taste bias\n",
        "Pantelis Analytis, Philipp Hager\n",
        "\n",
        "● CR-SoRec: BERT driven Consistency Regularization for Social Recommendation\n",
        "Tushar Prakash, Raksha Jalan, Brijraj Singh, Naoyuki Onoe\n",
        "\n",
        "● Deep Exploration for Recommendation Systems\n",
        "Zheqing Zhu, Benjamin Van Roy\n",
        "\n",
        "● Deliberative Diversity for News Recommendations: Operationalization and Experimental User Study\n",
        "Lucien Heitz, Juliane A. Lischka, Rana Abdullah, Laura Laugwitz, Hendrik Meyer, Abraham Bernstein\n",
        "\n",
        "● Enhancing Transformer without Self-supervised Learning: A Loss Landscape Perspective in Sequential Recommendation\n",
        "Vivian Lai, Huiyuan Chen, Chin-Chia Michael Yeh, Minghua Xu, Yiwei Cai, Hao Yang\n",
        "\n",
        "● Ex2Vec: Characterizing Users and Items from the Mere Exposure Effect\n",
        "Bruno Sguerra, Romain Hennequin\n",
        "\n",
        "● Extended conversion: Capturing successful interactions in voice shopping\n",
        "Elad Haramaty, Zohar Karnin, Arnon Lazerson, Liane Lewin-Eytan, Yoelle Maarek\n",
        "\n",
        "● Generative Next-Basket Recommendation\n",
        "Wenqi Sun, Ruobing Xie, Junjie Zhang, Wayne Xin Zhao, Leyu Lin, Ji-Rong Wen\n",
        "\n",
        "● Group Fairness for Content Creators: the Role of Human and Algorithmic Biases under Popularity-based Recommendations\n",
        "Stefania Ionescu, Aniko Hannak, Nicolo Pagan\n",
        "\n",
        "● Hessian-aware Quantized Node Embeddings for Recommendation\n",
        "Huiyuan Chen, Kaixiong Zhou, Kwei-Herng Lai, Chin-Chia Michael Yeh, Yan Zheng, Xia Hu, Hao Yang\n",
        "\n",
        "● Incorporating Time in Sequential Recommendation Models\n",
        "Mostafa Rahmani, James Caverlee, Fei Wang\n",
        "\n",
        "● Initiative transfer in conversational recommender systems\n",
        "Yuan Ma, Jürgen Ziegler\n",
        "\n",
        "● Integrating the ACT-R Framework with Collaborative Filtering for Explainable Sequential Music Recommendation\n",
        "Marta Moscati, Christian Wallmann, Markus Reiter-Haas, Dominik Kowald, Elisabeth Lex, Markus Schedl\n",
        "\n",
        "● Interface Design to Mitigate Inflation in Recommender Systems\n",
        "Rana Shahout, Yehonatan Peisakhovsky, Sasha Stoikov, Nikhil Garg\n",
        "\n",
        "● Interpretable User Retention Modeling in Recommendation\n",
        "Rui Ding, Ruobing Xie, Xiaobo Hao, Xiaochun Yang, Kaikai Ge, Xu Zhang, Jie Zhou, Leyu Lin\n",
        "\n",
        "● Large Language Model Augmented Narrative Driven Recommendations\n",
        "Sheshera Mysore, Andrew Mccallum, Hamed Zamani\n",
        "\n",
        "● Large Language Models are Competitive Near Cold-start Recommenders for Language- and Item-based Preferences\n",
        "Scott Sanner, Krisztian Balog, Filip Radlinski, Ben Wedin, Lucas Dixon\n",
        "\n",
        "● LLM4Rec: Large Language Models for Recommendation via A Lightweight Tuning Framework\n",
        "Keqin Bao, Jizhi Zhang, Yang Zhang, Wenjie Wang, Fuli Feng, Xiangnan He\n",
        "\n",
        "● Looks Can Be Deceiving: Linking User-Item Interactions and User’s Propensity Towards Multi-Objective Recommendations\n",
        "Patrik Dokoupil, Ladislav Peska, Ludovico Boratto\n",
        "\n",
        "● M3REC: A Meta-based Multi-scenario Multi-task Recommendation Framework\n",
        "Zerong Lan, Yingyi Zhang, Xianneng Li\n",
        "\n",
        "● Multiple Connectivity Views for Session-based Recommendation\n",
        "Yaming Yang, Jieyu Zhang, Yujing Wang, Zheng Miao, Yunhai Tong\n",
        "\n",
        "● Of Spiky SVDs and Music Recommendation\n",
        "Darius Afchar, Romain Hennequin, Vincent Guigue\n",
        "\n",
        "● On the Consistency of Average Embeddings for Item Recommendation\n",
        "Walid Bendada, Guillaume Salha-Galvan, Romain Hennequin, Thomas Bouabça, Tristan Cazenave\n",
        "\n",
        "● Optimizing Long-term Value for Auction-Based Recommender Systems via On-Policy Reinforcement Learning\n",
        "Ruiyang Xu, Jalaj Bhandari, Dmytro Korenkevych, Fan Liu, Yuchen He, Alex Nikulkov, Zheqing Zhu\n",
        "\n",
        "● Personalized Category Frequency prediction for Buy It Again recommendations\n",
        "Amit Pande, Kunal Ghosh, Rankyung Park\n",
        "\n",
        "● Private Matrix Factorization with Public Item Features\n",
        "Mihaela Curmei, Walid Krichene, Li Zhang\n",
        "\n",
        "● Progressive Horizon Learning: Adaptive Long Term Optimization for Personalized Recommendation\n",
        "Congrui Yi, David Zumwalt, Zijian Ni, Shreya Chakrabarti\n",
        "\n",
        "● Providing Previously Unseen Users Fair Recommendations Using Variational Autoencoders\n",
        "Bjørnar Vassøy, Helge Langseth, Benjamin Kille\n",
        "\n",
        "● ReCon: Reducing Congestion in Job Recommendation using Optimal Transport\n",
        "Yoosof Mashayekhi, Bo Kang, Jefrey Lijffijt, Tijl de Bie\n",
        "\n",
        "● Scalable Approximate NonSymmetric Autoencoder for Collaborative Filtering\n",
        "Martin Spišák, Radek Bartyzal, Antonín Hoskovec, Ladislav Peška, Miroslav Tůma\n",
        "\n",
        "● Scalable Deep Q-Learning for Session-Based Slate Recommendation\n",
        "Aayush Singha Roy, Edoardo D’Amico, Elias Tragos\n",
        "\n",
        "● Stability of Explainable Recommendation\n",
        "Sairamvinay Vijayaraghavan, Prasant Mohapatra\n",
        "\n",
        "● Ti-DC-GNN: Incorporating Time-Interval Dual Graphs for Recommender Systems\n",
        "Nikita Severin, Andrey Savchenko, Dmitrii Kiselev, Maria Ivanova, Ivan Kireev, Ilya Makarov\n",
        "\n",
        "● Time-Aware Item Weighting for the Next Basket Recommendations\n",
        "Aleksey Romanov, Oleg Lashinin, Marina Ananyeva, Sergey Kolesnikov\n",
        "\n",
        "● Topic-Level Bayesian Surprise and Serendipity for Recommender Systems\n",
        "Tonmoy Hasan, Razvan Bunescu\n",
        "\n",
        "● Towards Self-Explaining Sequence-Aware Recommendation\n",
        "Alejandro Ariza-Casabona, Maria Salamo, Ludovico Boratto\n",
        "\n",
        "● Towards Sustainability-aware Recommender Systems: Analyzing the Trade-off Between Algorithms Performance and Carbon Footprint\n",
        "Giuseppe Spillo, Allegra De Filippo, Cataldo Musto, Michela Milano, Giovanni Semeraro\n",
        "\n",
        "● Using Learnable Physics for Real-Time Exercise Form Recommendations\n",
        "Abhishek Jaiswal, Gautam Chauhan, Nisheeth Srivastava\n",
        "\n",
        "● Widespread flaws in offline evaluation of recommender systems\n",
        "Balázs Hidasi, Ádám Tibor Czapp\n",
        "\"\"\""
      ],
      "metadata": {
        "id": "9K5EWZBWm45M"
      },
      "execution_count": null,
      "outputs": []
    },
    {
      "cell_type": "code",
      "source": [
        "long_papers = \"\"\"● A Lightweight Method for Modeling Confidence in Recommendations with Learned Beta Distributions\n",
        "Norman Knyazev and Harrie Oosterhuis\n",
        "\n",
        "● A Multi-view Graph Contrastive Learning Framework for Cross-Domain Sequential Recommendation\n",
        "Zitao Xu, Weike Pan, and Zhong Ming\n",
        "\n",
        "● Adversarial Collaborative Filtering for Free\n",
        "Huiyuan Chen, Xiaoting Li, Vivian Lai, Chin-Chia Michael Yeh, Yujie Fan, Yan Zheng, Mahashweta Das, and Hao Yang\n",
        "\n",
        "● Alleviating the Long-Tail Problem in Conversational Recommender Systems\n",
        "Zhipeng Zhao, Kun Zhou, Xiaolei Wang, Wayne Xin Zhao, Fan Pan, Zhao Cao, and Ji-Rong Wen\n",
        "\n",
        "● Augmented Negative Sampling for Collaborative Filtering\n",
        "Yuhan Zhao, Rui Chen, Riwei Lai, Qilong Han, Hongtao Song, and Li Chen\n",
        "\n",
        "● AutoOpt: Automatic Hyperparameter Scheduling and Optimization for Deep Click-through Rate Prediction\n",
        "Yujun Li, Xing Tang, Bo Chen, Yimin Huang, Ruiming Tang, and Zhenguo Li\n",
        "\n",
        "● BVAE: Behavior-aware Variational Autoencoder for Multi-Behavior Multi-Task Recommendation\n",
        "Qianzhen Rao, Yang Liu, Weike Pan, and Zhong Ming\n",
        "\n",
        "● Contrastive Learning with Frequency-Domain Interest Trends for Sequential Recommendation\n",
        "Yichi Zhang, Guisheng Yin, and Yuxin Dong\n",
        "\n",
        "● Correcting for Interference in Experiments: A Case Study at Douyin\n",
        "Vivek Farias, Hao Li, Tianyi Peng, Xinyuyang Ren, Huawei Zhang, and Andrew Zheng\n",
        "\n",
        "● Data-free Knowledge Distillation for Reusing Recommendation Models\n",
        "Cheng Wang, Jiacheng Sun, Zhenhua Dong, Jieming Zhu, Zhenguo Li, Ruixuan Li, and Rui Zhang\n",
        "\n",
        "● Deep Situation-Aware Interaction Network for Click-Through Rate Prediction\n",
        "Yimin Lv, Shuli Wang, Beihong Jin, Yisong Yu, Yapeng Zhang, Jian Dong, Yongkang Wang, Xingxing Wang, and Dong Wang\n",
        "\n",
        "● Disentangling Motives behind Item Consumption and Social Connection for Mutually-enhanced Joint Prediction\n",
        "Youchen Sun, Zhu Sun, Xiao Sha, Jie Zhang, and Yew Soon Ong\n",
        "\n",
        "● Distribution-based Learnable Filters with Side Information for Sequential Recommendation\n",
        "Haibo Liu, Zhixiang Deng, Liang Wang, Jinjia Peng, and Shi Feng\n",
        "\n",
        "● Domain Disentanglement with Interpolative Data Augmentation for Dual-Target Cross-Domain Recommendation\n",
        "Jiajie Zhu, Yan Wang, Feng Zhu, and Zhu Sun\n",
        "\n",
        "● DREAM: Decoupled Representation via Extraction Attention Module and Supervised Contrastive Learning for Cross-Domain Sequential Recommender\n",
        "Xiaoxin Ye, Yun Li, and Lina Yao\n",
        "\n",
        "● Equivariant Contrastive Learning for Sequential Recommendation\n",
        "Peilin Zhou, Jingqi Gao, Yueqi Xie, Qichen Ye, Yining Hua, Jaeboum Kim, Shoujin Wang, and Sunghun Kim\n",
        "\n",
        "● Exploring False Hard Negative Sample in Cross-Domain Recommendation\n",
        "Haokai Ma, Ruobing Xie, Lei Meng, Xin Chen, Xu Zhang, Leyu Lin, and Jie Zhou\n",
        "\n",
        "● Fast and Examination-agnostic Reciprocal Recommendation in Matching Markets\n",
        "Yoji Tomita, Riku Togashi, Yuriko Hashizume, and Naoto Ohsaka\n",
        "\n",
        "● Full Index Deep Retrieval: End-to-End User and Item Structures for Cold-start and Long-tail Item Recommendation\n",
        "Zhen Gong, Xin Wu, Lei Chen, Zhenzhe Zheng, Shengjie Wang, Anran Xu, Chong Wang, and Fan Wu\n",
        "\n",
        "● Generative Learning Plan Recommendation for Employees: A Performance-aware Reinforcement Learning Approach\n",
        "Zhi Zheng, Ying Sun, Xin Song, Hengshu Zhu, and Hui Xiong\n",
        "\n",
        "● Goal-Oriented Multi-Modal Interactive Recommendation with Verbal and Non-Verbal Relevance Feedback\n",
        "Yaxiong Wu, Craig Macdonald, and Iadh Ounis\n",
        "\n",
        "● Going Beyond Local: Global Graph-Enhanced Personalized News Recommendations\n",
        "Boming Yang, Dairui Liu, Toyotaro Suzumura, Ruihai Dong, and Irene Li\n",
        "\n",
        "● Gradient Matching for Categorical Data Distillation in CTR Prediction\n",
        "Cheng Wang, Jiacheng Sun, Zhenhua Dong, Ruixuan Li, and Rui Zhang\n",
        "\n",
        "● gSASRec: Reducing Overconfidence in Sequential Recommendation Trained with Negative Sampling\n",
        "Aleksandr V. Petrov and Craig Macdonald\n",
        "\n",
        "● How Should We Measure Filter Bubbles? A Regression Model and Evidence for Online News\n",
        "Lien Michiels, Jorre Vannieuwenhuyze, Jens Leysen, Robin Verachtert, Annelien Smets, and Bart Goethals\n",
        "\n",
        "● Incentivizing Exploration in Linear Bandits under Information Gap\n",
        "Huazheng Wang, Haifeng Xu, Chuanhao Li, Zhiyuan Liu, and Hongning Wang\n",
        "\n",
        "● InTune: Reinforcement Learning-based Data Pipeline Optimization for Deep Recommendation Models\n",
        "Kabir Nagrecha, Lingyi Liu, Pablo Delgado, and Prasanna Padmanabhan\n",
        "\n",
        "● KGTORe: Tailored Recommendations through Knowledge-aware GNN Models\n",
        "Alberto Carlo Maria Mancino, Antonio Ferrara, Salvatore Bufi, Daniele Malitesta, Tommaso Di Noia, and Eugenio Di Sciascio\n",
        "\n",
        "● Knowledge-based Multiple Adaptive Spaces Fusion for Recommendation\n",
        "Meng Yuan, Fuzhen Zhuang, Zhao Zhang, Deqing Wang, and Jin Dong\n",
        "\n",
        "● Masked and Swapped Sequence Modeling for Next Novel Basket Recommendation in Grocery Shopping\n",
        "Ming Li, Mozhdeh Ariannezhad, Andrew Yates, and Maarten de Rijke\n",
        "\n",
        "● Multi-Relational Contrastive Learning for Recommendation\n",
        "Wei Wei, Lianghao Xia, and Chao Huang\n",
        "\n",
        "● Multi-task Item-attribute Graph Pre-training for Strict Cold-start Item Recommendation\n",
        "Yuwei Cao, Liangwei Yang, Chen Wang, Zhiwei Liu, Hao Peng, Chenyu You, and Philip Yu\n",
        "\n",
        "● Online Matching: A Real-time Bandit System for Large-scale Recommendations\n",
        "Xinyang Yi, Shao-Chuan Wang, Ruining He, Hariharan Chandrasekaran, Charles Wu, Lukasz Heldt, Lichan Hong, Minmin Chen, and Ed Chi\n",
        "\n",
        "● Pairwise Intent Graph Embedding Learning for Context-Aware Recommendation\n",
        "Dugang Liu, Yuhao Wu, Weixin Li, Xiaolian Zhang, Hao Wang, Qinjuan Yang, and Zhong Ming\n",
        "\n",
        "● Reciprocal Sequential Recommendation\n",
        "Bowen Zheng, Yupeng Hou, Wayne Xin Zhao, Yang Song, and Hengshu Zhu\n",
        "\n",
        "● Rethinking Multi-Interest Learning for Candidate Matching in Recommender Systems\n",
        "Yueqi Xie, Jingqi Gao, Peilin Zhou, Qichen Ye, Yining Hua, Jae Boum Kim, Fangzhao Wu, and Sunghun Kim\n",
        "\n",
        "● SPARE: Shortest Path Global Item Relations for Efficient Session-based Recommendation\n",
        "Andreas Peintner, Amir Reza Mohammadi, and Eva Zangerle\n",
        "\n",
        "● STAN: Stage-Adaptive Network for Multi-Task Recommendation by Learning User Lifecycle-Based Representation\n",
        "Wanda Li, Wenhao Zheng, Xuanji Xiao, and Suhang Wang\n",
        "\n",
        "● STRec: Sparse Transformer for Sequential Recommendations\n",
        "Chengxi Li, Xiangyu Zhao, Yejing Wang, Qidong Liu, Wanyu Wang, Yiqi Wang, Lixin Zou, Wenqi Fan, and Qing Li\n",
        "\n",
        "● Task Aware Feature Extraction Framework for Sequential Dependence Multi-Task Learning\n",
        "Xuewen Tao, Mingming Ha, Qiongxu Ma, Hongwei Cheng, Wenfang Lin, and Xiaobo Guo\n",
        "\n",
        "● Towards Robust Fairness-aware Recommendation\n",
        "Hao Yang, Zhining Liu, Zeyu Zhang, Chenyi Zhuang, and Xu Chen\n",
        "\n",
        "● Towards the Understanding and Modeling of Passive-Negative Feedback in Sequential Short-video Recommendation\n",
        "Yunzhu Pan, Chen Gao, Yang Song, Kun Gai, Depeng Jin, and Yong Li\n",
        "\n",
        "● Trending Now: Modeling Trend Recommendations\n",
        "Hao Ding, Branislav Kveton, Yifei Ma, Youngsuk Park, Venkataramana Kini, Yupeng Gu, Ravi Divvela, Fei Wang, Anoop Deoras, and Hao Wang\n",
        "\n",
        "● Two-sided Calibration for Quality-aware Responsible Recommendation\n",
        "Chenyang Wang, Yankai Liu, Yuanqing Yu, Weizhi Ma, Min Zhang, Yiqun Liu, Haitao Zeng, Junlan Feng, and Chao Deng\n",
        "\n",
        "● Uncovering User Interest from Biased and Noised Watch Time in Video Recommendation\n",
        "Haiyuan Zhao, Lei Zhang, Jun Xu, Guohao Cai, Zhenhua Dong, and Ji-Rong Wen\n",
        "\n",
        "● What We Evaluate When We Evaluate Recommender Systems: Understanding Recommender Systems’ Performance using Item Response Theory\n",
        "Yang Liu, Alan Medlar, and Dorota Glowacka\n",
        "\n",
        "● When Fairness meets Bias: a Debiased Framework for Fairness aware Top-N Recommendation\n",
        "Jiakai Tang, Shiqi Shen, Zhipeng Wang, Zhi Gong, Jingsen Zhang, and Xu Chen\n",
        "\"\"\""
      ],
      "metadata": {
        "id": "1A4Ru9ZNnMR0"
      },
      "execution_count": null,
      "outputs": []
    }
  ]
}